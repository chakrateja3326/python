{
 "cells": [
  {
   "cell_type": "code",
   "execution_count": 1,
   "metadata": {},
   "outputs": [
    {
     "name": "stdout",
     "output_type": "stream",
     "text": [
      "True\n",
      "True\n"
     ]
    }
   ],
   "source": [
    "s = 'python is easy programming to learn and intersting'\n",
    "s1 = \"python\"\n",
    "print(s.islower())\n",
    "print(s1.islower())"
   ]
  },
  {
   "cell_type": "code",
   "execution_count": 4,
   "metadata": {},
   "outputs": [
    {
     "name": "stdout",
     "output_type": "stream",
     "text": [
      "True\n",
      "True\n"
     ]
    }
   ],
   "source": [
    "s = \"application\"\n",
    "s1 = \"TEJA\"\n",
    "print(s.islower())\n",
    "print(s1.isupper())"
   ]
  },
  {
   "cell_type": "code",
   "execution_count": 11,
   "metadata": {},
   "outputs": [
    {
     "name": "stdout",
     "output_type": "stream",
     "text": [
      "False\n",
      "False\n"
     ]
    }
   ],
   "source": [
    "s = \"56787\"\n",
    "s1 = \"TJ1029\"\n",
    "print(s.isalpha())\n",
    "print(s1.isalpha())"
   ]
  },
  {
   "cell_type": "code",
   "execution_count": 12,
   "metadata": {},
   "outputs": [
    {
     "name": "stdout",
     "output_type": "stream",
     "text": [
      "True\n",
      "False\n"
     ]
    }
   ],
   "source": [
    "s = \"56787\"\n",
    "s1 = \"TJ1029\"\n",
    "print(s.isnumeric())\n",
    "print(s1.isnumeric())"
   ]
  },
  {
   "cell_type": "code",
   "execution_count": 15,
   "metadata": {},
   "outputs": [
    {
     "name": "stdout",
     "output_type": "stream",
     "text": [
      "False\n",
      "False\n"
     ]
    }
   ],
   "source": [
    "s = \"python\"\n",
    "s1 = 'python programming'\n",
    "print(s.isspace())\n",
    "print(s.isspace())"
   ]
  },
  {
   "cell_type": "code",
   "execution_count": 18,
   "metadata": {},
   "outputs": [
    {
     "name": "stdout",
     "output_type": "stream",
     "text": [
      "False\n",
      "True\n"
     ]
    }
   ],
   "source": [
    "s = \" p y t h o n \"\n",
    "s1 = \"        \"\n",
    "print(s.isspace())\n",
    "print(s1.isspace())"
   ]
  },
  {
   "cell_type": "code",
   "execution_count": 20,
   "metadata": {},
   "outputs": [
    {
     "name": "stdout",
     "output_type": "stream",
     "text": [
      "['Python', 'programing', 'is', 'easy', 'to', 'learn']\n"
     ]
    }
   ],
   "source": [
    "s = \"Python programing is easy to learn\"\n",
    "print(s.split())\n"
   ]
  },
  {
   "cell_type": "code",
   "execution_count": 19,
   "metadata": {},
   "outputs": [
    {
     "name": "stdout",
     "output_type": "stream",
     "text": [
      "['python,', 'programming', ',is', ',easy,', 'to', ',learn']\n",
      "['python, progr', 'mming ,is ,e', 'sy, to ,le', 'rn']\n",
      "['python', ' programming ', 'is ', 'easy', ' to ', 'learn']\n"
     ]
    }
   ],
   "source": [
    "s=\"python, programming ,is ,easy, to ,learn\"\n",
    "print(s.split())\n",
    "print(s.split(\"a\"))\n",
    "print(s.split(\",\"))"
   ]
  },
  {
   "cell_type": "code",
   "execution_count": 21,
   "metadata": {},
   "outputs": [
    {
     "name": "stdout",
     "output_type": "stream",
     "text": [
      "  ,  \n"
     ]
    }
   ],
   "source": [
    "lst = [\" \",\" \"]\n",
    "print(\" , \".join(lst))\n"
   ]
  },
  {
   "cell_type": "code",
   "execution_count": 22,
   "metadata": {},
   "outputs": [
    {
     "name": "stdout",
     "output_type": "stream",
     "text": [
      "['python', 'programming', 'is', 'easy', 'to', 'learn']\n",
      "2\n",
      "['p', 'y', 't', 'h', 'o', 'n', ' ', 'p', 'r', 'o', 'g', 'r', 'a', 'm', 'm', 'i', 'n', 'g', ' ', 'i', 's', ' ', 'e', 'a', 's', 'y', ' ', 't', 'o', ' ', 'l', 'e', 'a', 'r', 'n']\n",
      "python proapplicationmming\n"
     ]
    }
   ],
   "source": [
    "s=\"python programming is easy to learn\"\n",
    "lst=s.split()\n",
    "print(lst)\n",
    "print(lst.index(\"is\"))\n",
    "s=\"python programming is easy to learn\"\n",
    "lst=list(s)\n",
    "print(lst)\n",
    "s=\"python programming\"\n",
    "print(s.replace(\"gra\",\"application\"))"
   ]
  },
  {
   "cell_type": "code",
   "execution_count": 24,
   "metadata": {},
   "outputs": [
    {
     "name": "stdout",
     "output_type": "stream",
     "text": [
      "['Python', 'Programming', '1989', '2019', 'Machine', 'learning', 'Al']\n",
      "(1, 2, 3, 4, 5)\n",
      "t1[0]) =  Python\n",
      "t1[2]) =  1989\n",
      "t1[-1]) =  Al\n",
      "t1[1:4]) =  ['Programming', '1989', '2019']\n",
      "t1[2:-2]) =  ['1989', '2019', 'Machine']\n"
     ]
    }
   ],
   "source": [
    "t1 = [\"Python\",\"Programming\",\"1989\",\"2019\",\"Machine\",\"learning\",\"Al\"]\n",
    "t2 = (1,2,3,4,5)\n",
    "print(t1)\n",
    "print(t2)\n",
    "t1 = [\"Python\",\"Programming\",\"1989\",\"2019\",\"Machine\",\"learning\",\"Al\"]\n",
    "print(\"t1[0]) = \",t1[0])\n",
    "print(\"t1[2]) = \",t1[2])\n",
    "print(\"t1[-1]) = \",t1[-1])\n",
    "print(\"t1[1:4]) = \",t1[1:4])\n",
    "print(\"t1[2:-2]) = \",t1[2:-2])"
   ]
  },
  {
   "cell_type": "code",
   "execution_count": 8,
   "metadata": {},
   "outputs": [
    {
     "ename": "SyntaxError",
     "evalue": "unexpected character after line continuation character (<ipython-input-8-8ea885f9224a>, line 13)",
     "output_type": "error",
     "traceback": [
      "\u001b[1;36m  File \u001b[1;32m\"<ipython-input-8-8ea885f9224a>\"\u001b[1;36m, line \u001b[1;32m13\u001b[0m\n\u001b[1;33m    print(\"Please select operation -\\n\" \\\u001b[0m\n\u001b[1;37m                                          ^\u001b[0m\n\u001b[1;31mSyntaxError\u001b[0m\u001b[1;31m:\u001b[0m unexpected character after line continuation character\n"
     ]
    }
   ],
   "source": [
    " def add(num1, num2): \n",
    "    return num1 + num2 \n",
    "  \n",
    "def subtract(num1, num2): \n",
    "    return num1 - num2 \n",
    " \n",
    "def multiply(num1, num2): \n",
    "    return num1 * num2 \n",
    "  \n",
    "def divide(num1, num2): \n",
    "    return num1 / num2 \n",
    "  \n",
    "print(\"Please select operation -\\n\" \\ \n",
    "        \"1. Add\\n\" \\ \n",
    "        \"2. Subtract\\n\" \\ \n",
    "        \"3. Multiply\\n\" \\ \n",
    "        \"4. Divide\\n\") \n",
    "  \n",
    "  \n",
    "# Take input from the user  \n",
    "select = input(\"Select operations form 1, 2, 3, 4 :\") \n",
    "  \n",
    "number_1 = int(input(\"Enter first number: \")) \n",
    "number_2 = int(input(\"Enter second number: \")) \n",
    "  \n",
    "if select == '1': \n",
    "    print(number_1, \"+\", number_2, \"=\", \n",
    "                    add(number_1, number_2)) \n",
    "  \n",
    "elif select == '2': \n",
    "    print(number_1, \"-\", number_2, \"=\", \n",
    "                    subtract(number_1, number_2)) \n",
    "  \n",
    "elif select == '3': \n",
    "    print(number_1, \"*\", number_2, \"=\", \n",
    "                    multiply(number_1, number_2)) \n",
    "  \n",
    "elif select == '4': \n",
    "    print(number_1, \"/\", number_2, \"=\", \n",
    "                    divide(number_1, number_2)) \n",
    "else: \n",
    "    print(\"Invalid input\") \n"
   ]
  },
  {
   "cell_type": "code",
   "execution_count": 9,
   "metadata": {},
   "outputs": [
    {
     "ename": "SyntaxError",
     "evalue": "unexpected character after line continuation character (<ipython-input-9-f345f11a8662>, line 19)",
     "output_type": "error",
     "traceback": [
      "\u001b[1;36m  File \u001b[1;32m\"<ipython-input-9-f345f11a8662>\"\u001b[1;36m, line \u001b[1;32m19\u001b[0m\n\u001b[1;33m    print(\"Please select operation -\\n\" \\\u001b[0m\n\u001b[1;37m                                          ^\u001b[0m\n\u001b[1;31mSyntaxError\u001b[0m\u001b[1;31m:\u001b[0m unexpected character after line continuation character\n"
     ]
    }
   ],
   "source": [
    "# Python program for simple calculator \n",
    "  \n",
    "# Function to add two numbers  \n",
    "def add(num1, num2): \n",
    "    return num1 + num2 \n",
    "  \n",
    "# Function to subtract two numbers  \n",
    "def subtract(num1, num2): \n",
    "    return num1 - num2 \n",
    "  \n",
    "# Function to multiply two numbers \n",
    "def multiply(num1, num2): \n",
    "    return num1 * num2 \n",
    "  \n",
    "# Function to divide two numbers \n",
    "def divide(num1, num2): \n",
    "    return num1 / num2 \n",
    "  \n",
    "print(\"Please select operation -\\n\" \\ \n",
    "        \"1. Add\\n\" \\ \n",
    "        \"2. Subtract\\n\" \\ \n",
    "        \"3. Multiply\\n\" \\ \n",
    "        \"4. Divide\\n\") \n",
    "  \n",
    "  \n",
    "# Take input from the user  \n",
    "select = input(\"Select operations form 1, 2, 3, 4 :\") \n",
    "  \n",
    "number_1 = int(input(\"Enter first number: \")) \n",
    "number_2 = int(input(\"Enter second number: \")) \n",
    "  \n",
    "if select == '1': \n",
    "    print(number_1, \"+\", number_2, \"=\", \n",
    "                    add(number_1, number_2)) \n",
    "  \n",
    "elif select == '2': \n",
    "    print(number_1, \"-\", number_2, \"=\", \n",
    "                    subtract(number_1, number_2)) \n",
    "  \n",
    "elif select == '3': \n",
    "    print(number_1, \"*\", number_2, \"=\", \n",
    "                    multiply(number_1, number_2)) \n",
    "  \n",
    "elif select == '4': \n",
    "    print(number_1, \"/\", number_2, \"=\", \n",
    "                    divide(number_1, number_2)) \n",
    "else: \n",
    "    print(\"Invalid input\") "
   ]
  },
  {
   "cell_type": "code",
   "execution_count": 48,
   "metadata": {},
   "outputs": [
    {
     "name": "stdout",
     "output_type": "stream",
     "text": [
      "Contact teja added\n",
      "Contact sunny added\n",
      "Contact Anil added\n"
     ]
    }
   ],
   "source": [
    "contact ={}\n",
    "def addContact(name,phone):\n",
    "    if name not in contact:\n",
    "        contact[name] = phone\n",
    "        print(\"Contact %s added\" % name)\n",
    "    else: \n",
    "        print(\"Contact %s already exists\" % name)\n",
    "    return\n",
    "\n",
    "addContact(\"teja\",9642573777)\n",
    "addContact(\"sunny\",996633221)\n",
    "addContact(\"Anil\",9988774466)\n"
   ]
  },
  {
   "cell_type": "code",
   "execution_count": 49,
   "metadata": {},
   "outputs": [
    {
     "name": "stdout",
     "output_type": "stream",
     "text": [
      "Contact sunny added\n",
      "Contact teja added\n",
      "Contact Anil added\n"
     ]
    }
   ],
   "source": [
    "contact ={}\n",
    "def addContact(name,phone):\n",
    "   if name not in contact:\n",
    "       contact[name] = phone\n",
    "       print(\"Contact %s added\" % name)\n",
    "   else: \n",
    "           print(\"Contact %s already exists\" % name)\n",
    "   return\n",
    "\n",
    "addContact(\"sunny\",9642573777)\n",
    "addContact(\"teja\",7095332633)\n",
    "addContact(\"Anil\",9988774466)\n"
   ]
  },
  {
   "cell_type": "code",
   "execution_count": 50,
   "metadata": {},
   "outputs": [
    {
     "name": "stdout",
     "output_type": "stream",
     "text": [
      "sunny  :  9642573777\n",
      "teja  :  7095332633\n",
      "Anil  :  9988774466\n",
      "kiran does not exists\n"
     ]
    }
   ],
   "source": [
    "def searchContact(name):\n",
    "    if name in contact:\n",
    "        print(name,\" : \",contact[name])\n",
    "    else:\n",
    "        print(\"%s does not exists\"% name)\n",
    "    return\n",
    "\n",
    "searchContact(\"sunny\")\n",
    "searchContact(\"teja\")\n",
    "searchContact(\"Anil\")\n",
    "searchContact(\"kiran\")\n"
   ]
  },
  {
   "cell_type": "code",
   "execution_count": 51,
   "metadata": {},
   "outputs": [
    {
     "name": "stdout",
     "output_type": "stream",
     "text": [
      "3 contact added successfully\n",
      "3 contact added successfully\n"
     ]
    }
   ],
   "source": [
    "def importcontact(newcontacts):\n",
    "   contact.update(newcontacts)\n",
    "   print(len(newcontacts.keys()),\"contact added successfully\")\n",
    "   return\n",
    "newcontacts={'Dinesh':9955112233,'Ajay':86878712}\n",
    "importcontact(contact)\n",
    "def importcontact(newcontacts):\n",
    "   contact.update(newcontacts)\n",
    "   print(len(newcontacts.keys()),\"contact added successfully\")\n",
    "   return\n",
    "newcontacts={'Dinesh':9955112233,'Ajay':86878712}\n",
    "importcontact(contact)"
   ]
  },
  {
   "cell_type": "code",
   "execution_count": 57,
   "metadata": {},
   "outputs": [
    {
     "name": "stdout",
     "output_type": "stream",
     "text": [
      "3 contacts added successfully\n"
     ]
    }
   ],
   "source": [
    "def importcontacs(newcontacts):\n",
    "    contact.update(newcontacts)\n",
    "    print(len(newcontacts.keys()),\"contacts added successfully\")\n",
    "    return\n",
    "newcontacts={'Dinesh':9955112233,'Ajay':86878712}\n",
    "importcontact(contact)\n"
   ]
  },
  {
   "cell_type": "code",
   "execution_count": 56,
   "metadata": {},
   "outputs": [
    {
     "name": "stdout",
     "output_type": "stream",
     "text": [
      "3 contacts added successfully\n"
     ]
    }
   ],
   "source": [
    "def importcontact(newcontacts):\n",
    "   contact.update(newcontacts)\n",
    "   print(len(newcontacts.keys()),\"contacts added successfully\")\n",
    "   return\n",
    "newcontacts={'Dinesh':9955112233,'Ajay':86878712}\n",
    "importcontact(contact)\n"
   ]
  },
  {
   "cell_type": "code",
   "execution_count": 59,
   "metadata": {},
   "outputs": [
    {
     "name": "stdout",
     "output_type": "stream",
     "text": [
      "harsha is not exists in the contacts\n",
      "naveen is not exists in the contacts\n"
     ]
    }
   ],
   "source": [
    "def deletecontact(name):\n",
    "   if name in contact:\n",
    "       del contact[name]\n",
    "       print(name,\"is deleted from the contacts\")\n",
    "   else:\n",
    "       print(name,\"is not exists in the contacts\")\n",
    "   return\n",
    "deletecontact(\"harsha\")\n",
    "deletecontact(\"naveen\")"
   ]
  },
  {
   "cell_type": "code",
   "execution_count": 60,
   "metadata": {},
   "outputs": [
    {
     "name": "stdout",
     "output_type": "stream",
     "text": [
      "dinesh not exist in the contact\n",
      "ajay not exist in the contact\n",
      "{'sunny': 9642573777, 'teja': 7095332633, 'Anil': 9988774466}\n"
     ]
    }
   ],
   "source": [
    "def updatecontact(name,phone):\n",
    "   if name in contact:\n",
    "       contact[name] = phone\n",
    "       print(name,\" : update with new phone number\")\n",
    "   else:\n",
    "       print(name,\"not exist in the contact\")\n",
    "   return\n",
    "updatecontact(\"dinesh\",9988776655)\n",
    "updatecontact(\"ajay\",7766554433)\n",
    "print(contact)\n"
   ]
  },
  {
   "cell_type": "code",
   "execution_count": null,
   "metadata": {},
   "outputs": [],
   "source": []
  }
 ],
 "metadata": {
  "kernelspec": {
   "display_name": "Python 3",
   "language": "python",
   "name": "python3"
  },
  "language_info": {
   "codemirror_mode": {
    "name": "ipython",
    "version": 3
   },
   "file_extension": ".py",
   "mimetype": "text/x-python",
   "name": "python",
   "nbconvert_exporter": "python",
   "pygments_lexer": "ipython3",
   "version": "3.7.3"
  }
 },
 "nbformat": 4,
 "nbformat_minor": 2
}
